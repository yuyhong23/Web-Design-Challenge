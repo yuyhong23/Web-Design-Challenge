{
 "cells": [
  {
   "cell_type": "code",
   "execution_count": 1,
   "metadata": {},
   "outputs": [],
   "source": [
    "import pandas as pd"
   ]
  },
  {
   "cell_type": "code",
   "execution_count": 2,
   "metadata": {},
   "outputs": [],
   "source": [
    "file = pd.read_csv(\"Resources/cities.csv\")"
   ]
  },
  {
   "cell_type": "code",
   "execution_count": 3,
   "metadata": {},
   "outputs": [],
   "source": [
    "del file[\"Unnamed: 0\"] "
   ]
  },
  {
   "cell_type": "code",
   "execution_count": 4,
   "metadata": {},
   "outputs": [
    {
     "data": {
      "text/html": [
       "<div>\n",
       "<style scoped>\n",
       "    .dataframe tbody tr th:only-of-type {\n",
       "        vertical-align: middle;\n",
       "    }\n",
       "\n",
       "    .dataframe tbody tr th {\n",
       "        vertical-align: top;\n",
       "    }\n",
       "\n",
       "    .dataframe thead th {\n",
       "        text-align: right;\n",
       "    }\n",
       "</style>\n",
       "<table border=\"1\" class=\"dataframe\">\n",
       "  <thead>\n",
       "    <tr style=\"text-align: right;\">\n",
       "      <th></th>\n",
       "      <th>City</th>\n",
       "      <th>Lat</th>\n",
       "      <th>Lng</th>\n",
       "      <th>Max Temp</th>\n",
       "      <th>Humidity</th>\n",
       "      <th>Cloudiness</th>\n",
       "      <th>Wind Speed</th>\n",
       "      <th>Country</th>\n",
       "      <th>Date</th>\n",
       "    </tr>\n",
       "  </thead>\n",
       "  <tbody>\n",
       "    <tr>\n",
       "      <th>0</th>\n",
       "      <td>Port Elizabeth</td>\n",
       "      <td>-33.92</td>\n",
       "      <td>25.57</td>\n",
       "      <td>60.80</td>\n",
       "      <td>100</td>\n",
       "      <td>81</td>\n",
       "      <td>4.70</td>\n",
       "      <td>ZA</td>\n",
       "      <td>1605733606</td>\n",
       "    </tr>\n",
       "    <tr>\n",
       "      <th>1</th>\n",
       "      <td>Tilichiki</td>\n",
       "      <td>60.47</td>\n",
       "      <td>166.10</td>\n",
       "      <td>2.48</td>\n",
       "      <td>93</td>\n",
       "      <td>100</td>\n",
       "      <td>4.36</td>\n",
       "      <td>RU</td>\n",
       "      <td>1605733606</td>\n",
       "    </tr>\n",
       "    <tr>\n",
       "      <th>2</th>\n",
       "      <td>Saint-Joseph</td>\n",
       "      <td>-21.37</td>\n",
       "      <td>55.62</td>\n",
       "      <td>66.02</td>\n",
       "      <td>69</td>\n",
       "      <td>75</td>\n",
       "      <td>17.22</td>\n",
       "      <td>RE</td>\n",
       "      <td>1605733606</td>\n",
       "    </tr>\n",
       "    <tr>\n",
       "      <th>3</th>\n",
       "      <td>Faanui</td>\n",
       "      <td>-16.48</td>\n",
       "      <td>-151.75</td>\n",
       "      <td>79.72</td>\n",
       "      <td>78</td>\n",
       "      <td>100</td>\n",
       "      <td>13.91</td>\n",
       "      <td>PF</td>\n",
       "      <td>1605733607</td>\n",
       "    </tr>\n",
       "    <tr>\n",
       "      <th>4</th>\n",
       "      <td>Avarua</td>\n",
       "      <td>-21.21</td>\n",
       "      <td>-159.78</td>\n",
       "      <td>78.80</td>\n",
       "      <td>83</td>\n",
       "      <td>100</td>\n",
       "      <td>11.41</td>\n",
       "      <td>CK</td>\n",
       "      <td>1605733590</td>\n",
       "    </tr>\n",
       "  </tbody>\n",
       "</table>\n",
       "</div>"
      ],
      "text/plain": [
       "             City    Lat     Lng  Max Temp  Humidity  Cloudiness  Wind Speed  \\\n",
       "0  Port Elizabeth -33.92   25.57     60.80       100          81        4.70   \n",
       "1       Tilichiki  60.47  166.10      2.48        93         100        4.36   \n",
       "2    Saint-Joseph -21.37   55.62     66.02        69          75       17.22   \n",
       "3          Faanui -16.48 -151.75     79.72        78         100       13.91   \n",
       "4          Avarua -21.21 -159.78     78.80        83         100       11.41   \n",
       "\n",
       "  Country        Date  \n",
       "0      ZA  1605733606  \n",
       "1      RU  1605733606  \n",
       "2      RE  1605733606  \n",
       "3      PF  1605733607  \n",
       "4      CK  1605733590  "
      ]
     },
     "execution_count": 4,
     "metadata": {},
     "output_type": "execute_result"
    }
   ],
   "source": [
    "file.head()"
   ]
  },
  {
   "cell_type": "code",
   "execution_count": 5,
   "metadata": {},
   "outputs": [],
   "source": [
    "file.to_html(\"cities.html\")"
   ]
  }
 ],
 "metadata": {
  "kernelspec": {
   "display_name": "Python [conda env:PythonData] *",
   "language": "python",
   "name": "conda-env-PythonData-py"
  },
  "language_info": {
   "codemirror_mode": {
    "name": "ipython",
    "version": 3
   },
   "file_extension": ".py",
   "mimetype": "text/x-python",
   "name": "python",
   "nbconvert_exporter": "python",
   "pygments_lexer": "ipython3",
   "version": "3.6.12"
  }
 },
 "nbformat": 4,
 "nbformat_minor": 4
}
